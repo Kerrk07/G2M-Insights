{
 "cells": [
  {
   "cell_type": "markdown",
   "id": "b8052798",
   "metadata": {},
   "source": [
    "# G2M insight for Cab Investment firm"
   ]
  },
  {
   "cell_type": "markdown",
   "id": "90e82e1a",
   "metadata": {},
   "source": [
    "**Import Libraries**"
   ]
  },
  {
   "cell_type": "code",
   "execution_count": 1,
   "id": "0e8d2565",
   "metadata": {},
   "outputs": [],
   "source": [
    "import pandas as pd\n",
    "import numpy as np\n",
    "import matplotlib.pyplot as plt\n",
    "import seaborn as sns"
   ]
  },
  {
   "cell_type": "markdown",
   "id": "d2341ddb",
   "metadata": {},
   "source": [
    "**Read files**"
   ]
  },
  {
   "cell_type": "code",
   "execution_count": 2,
   "id": "861bee92",
   "metadata": {},
   "outputs": [],
   "source": [
    "cab_data = pd.read_csv('data/Cab_Data.csv')\n",
    "customer_id = pd.read_csv('data/Customer_ID.csv')\n",
    "transaction_id = pd.read_csv('data/Transaction_ID.csv')\n",
    "city = pd.read_csv('data/City.csv')"
   ]
  },
  {
   "cell_type": "markdown",
   "id": "2564fd0d",
   "metadata": {},
   "source": [
    "**Data Inspection**"
   ]
  },
  {
   "cell_type": "markdown",
   "id": "9100d176",
   "metadata": {},
   "source": [
    "**1) `cab_data`: Details of transaction for 2 cab companies**"
   ]
  },
  {
   "cell_type": "code",
   "execution_count": 3,
   "id": "14c5b755",
   "metadata": {},
   "outputs": [
    {
     "data": {
      "text/html": [
       "<div>\n",
       "<style scoped>\n",
       "    .dataframe tbody tr th:only-of-type {\n",
       "        vertical-align: middle;\n",
       "    }\n",
       "\n",
       "    .dataframe tbody tr th {\n",
       "        vertical-align: top;\n",
       "    }\n",
       "\n",
       "    .dataframe thead th {\n",
       "        text-align: right;\n",
       "    }\n",
       "</style>\n",
       "<table border=\"1\" class=\"dataframe\">\n",
       "  <thead>\n",
       "    <tr style=\"text-align: right;\">\n",
       "      <th></th>\n",
       "      <th>Transaction ID</th>\n",
       "      <th>Date of Travel</th>\n",
       "      <th>Company</th>\n",
       "      <th>City</th>\n",
       "      <th>KM Travelled</th>\n",
       "      <th>Price Charged</th>\n",
       "      <th>Cost of Trip</th>\n",
       "    </tr>\n",
       "  </thead>\n",
       "  <tbody>\n",
       "    <tr>\n",
       "      <th>0</th>\n",
       "      <td>10000011</td>\n",
       "      <td>42377</td>\n",
       "      <td>Pink Cab</td>\n",
       "      <td>ATLANTA GA</td>\n",
       "      <td>30.45</td>\n",
       "      <td>370.95</td>\n",
       "      <td>313.635</td>\n",
       "    </tr>\n",
       "    <tr>\n",
       "      <th>1</th>\n",
       "      <td>10000012</td>\n",
       "      <td>42375</td>\n",
       "      <td>Pink Cab</td>\n",
       "      <td>ATLANTA GA</td>\n",
       "      <td>28.62</td>\n",
       "      <td>358.52</td>\n",
       "      <td>334.854</td>\n",
       "    </tr>\n",
       "    <tr>\n",
       "      <th>2</th>\n",
       "      <td>10000013</td>\n",
       "      <td>42371</td>\n",
       "      <td>Pink Cab</td>\n",
       "      <td>ATLANTA GA</td>\n",
       "      <td>9.04</td>\n",
       "      <td>125.20</td>\n",
       "      <td>97.632</td>\n",
       "    </tr>\n",
       "    <tr>\n",
       "      <th>3</th>\n",
       "      <td>10000014</td>\n",
       "      <td>42376</td>\n",
       "      <td>Pink Cab</td>\n",
       "      <td>ATLANTA GA</td>\n",
       "      <td>33.17</td>\n",
       "      <td>377.40</td>\n",
       "      <td>351.602</td>\n",
       "    </tr>\n",
       "    <tr>\n",
       "      <th>4</th>\n",
       "      <td>10000015</td>\n",
       "      <td>42372</td>\n",
       "      <td>Pink Cab</td>\n",
       "      <td>ATLANTA GA</td>\n",
       "      <td>8.73</td>\n",
       "      <td>114.62</td>\n",
       "      <td>97.776</td>\n",
       "    </tr>\n",
       "  </tbody>\n",
       "</table>\n",
       "</div>"
      ],
      "text/plain": [
       "   Transaction ID  Date of Travel   Company        City  KM Travelled  \\\n",
       "0        10000011           42377  Pink Cab  ATLANTA GA         30.45   \n",
       "1        10000012           42375  Pink Cab  ATLANTA GA         28.62   \n",
       "2        10000013           42371  Pink Cab  ATLANTA GA          9.04   \n",
       "3        10000014           42376  Pink Cab  ATLANTA GA         33.17   \n",
       "4        10000015           42372  Pink Cab  ATLANTA GA          8.73   \n",
       "\n",
       "   Price Charged  Cost of Trip  \n",
       "0         370.95       313.635  \n",
       "1         358.52       334.854  \n",
       "2         125.20        97.632  \n",
       "3         377.40       351.602  \n",
       "4         114.62        97.776  "
      ]
     },
     "execution_count": 3,
     "metadata": {},
     "output_type": "execute_result"
    }
   ],
   "source": [
    "cab_data.head()"
   ]
  },
  {
   "cell_type": "code",
   "execution_count": 4,
   "id": "cf0139d1",
   "metadata": {},
   "outputs": [
    {
     "data": {
      "text/plain": [
       "array(['ATLANTA GA', 'AUSTIN TX', 'BOSTON MA', 'CHICAGO IL', 'DALLAS TX',\n",
       "       'DENVER CO', 'LOS ANGELES CA', 'MIAMI FL', 'NASHVILLE TN',\n",
       "       'NEW YORK NY', 'ORANGE COUNTY', 'PHOENIX AZ', 'PITTSBURGH PA',\n",
       "       'SACRAMENTO CA', 'SAN DIEGO CA', 'SEATTLE WA', 'SILICON VALLEY',\n",
       "       'TUCSON AZ', 'WASHINGTON DC'], dtype=object)"
      ]
     },
     "execution_count": 4,
     "metadata": {},
     "output_type": "execute_result"
    }
   ],
   "source": [
    "cab_data['City'].unique()"
   ]
  },
  {
   "cell_type": "code",
   "execution_count": 5,
   "id": "db005028",
   "metadata": {},
   "outputs": [
    {
     "name": "stdout",
     "output_type": "stream",
     "text": [
      "<class 'pandas.core.frame.DataFrame'>\n",
      "RangeIndex: 359392 entries, 0 to 359391\n",
      "Data columns (total 7 columns):\n",
      " #   Column          Non-Null Count   Dtype  \n",
      "---  ------          --------------   -----  \n",
      " 0   Transaction ID  359392 non-null  int64  \n",
      " 1   Date of Travel  359392 non-null  int64  \n",
      " 2   Company         359392 non-null  object \n",
      " 3   City            359392 non-null  object \n",
      " 4   KM Travelled    359392 non-null  float64\n",
      " 5   Price Charged   359392 non-null  float64\n",
      " 6   Cost of Trip    359392 non-null  float64\n",
      "dtypes: float64(3), int64(2), object(2)\n",
      "memory usage: 19.2+ MB\n"
     ]
    }
   ],
   "source": [
    "cab_data.info()"
   ]
  },
  {
   "cell_type": "code",
   "execution_count": 6,
   "id": "d0158437",
   "metadata": {},
   "outputs": [
    {
     "data": {
      "text/html": [
       "<div>\n",
       "<style scoped>\n",
       "    .dataframe tbody tr th:only-of-type {\n",
       "        vertical-align: middle;\n",
       "    }\n",
       "\n",
       "    .dataframe tbody tr th {\n",
       "        vertical-align: top;\n",
       "    }\n",
       "\n",
       "    .dataframe thead th {\n",
       "        text-align: right;\n",
       "    }\n",
       "</style>\n",
       "<table border=\"1\" class=\"dataframe\">\n",
       "  <thead>\n",
       "    <tr style=\"text-align: right;\">\n",
       "      <th></th>\n",
       "      <th>count</th>\n",
       "      <th>mean</th>\n",
       "      <th>std</th>\n",
       "      <th>min</th>\n",
       "      <th>25%</th>\n",
       "      <th>50%</th>\n",
       "      <th>75%</th>\n",
       "      <th>max</th>\n",
       "    </tr>\n",
       "  </thead>\n",
       "  <tbody>\n",
       "    <tr>\n",
       "      <th>Transaction ID</th>\n",
       "      <td>359392.0</td>\n",
       "      <td>1.022076e+07</td>\n",
       "      <td>126805.803715</td>\n",
       "      <td>10000011.0</td>\n",
       "      <td>1.011081e+07</td>\n",
       "      <td>10221035.50</td>\n",
       "      <td>1.033094e+07</td>\n",
       "      <td>10440107.00</td>\n",
       "    </tr>\n",
       "    <tr>\n",
       "      <th>Date of Travel</th>\n",
       "      <td>359392.0</td>\n",
       "      <td>4.296407e+04</td>\n",
       "      <td>307.467197</td>\n",
       "      <td>42371.0</td>\n",
       "      <td>4.269700e+04</td>\n",
       "      <td>42988.00</td>\n",
       "      <td>4.323200e+04</td>\n",
       "      <td>43465.00</td>\n",
       "    </tr>\n",
       "    <tr>\n",
       "      <th>KM Travelled</th>\n",
       "      <td>359392.0</td>\n",
       "      <td>2.256725e+01</td>\n",
       "      <td>12.233526</td>\n",
       "      <td>1.9</td>\n",
       "      <td>1.200000e+01</td>\n",
       "      <td>22.44</td>\n",
       "      <td>3.296000e+01</td>\n",
       "      <td>48.00</td>\n",
       "    </tr>\n",
       "    <tr>\n",
       "      <th>Price Charged</th>\n",
       "      <td>359392.0</td>\n",
       "      <td>4.234433e+02</td>\n",
       "      <td>274.378911</td>\n",
       "      <td>15.6</td>\n",
       "      <td>2.064375e+02</td>\n",
       "      <td>386.36</td>\n",
       "      <td>5.836600e+02</td>\n",
       "      <td>2048.03</td>\n",
       "    </tr>\n",
       "    <tr>\n",
       "      <th>Cost of Trip</th>\n",
       "      <td>359392.0</td>\n",
       "      <td>2.861901e+02</td>\n",
       "      <td>157.993661</td>\n",
       "      <td>19.0</td>\n",
       "      <td>1.512000e+02</td>\n",
       "      <td>282.48</td>\n",
       "      <td>4.136832e+02</td>\n",
       "      <td>691.20</td>\n",
       "    </tr>\n",
       "  </tbody>\n",
       "</table>\n",
       "</div>"
      ],
      "text/plain": [
       "                   count          mean            std         min  \\\n",
       "Transaction ID  359392.0  1.022076e+07  126805.803715  10000011.0   \n",
       "Date of Travel  359392.0  4.296407e+04     307.467197     42371.0   \n",
       "KM Travelled    359392.0  2.256725e+01      12.233526         1.9   \n",
       "Price Charged   359392.0  4.234433e+02     274.378911        15.6   \n",
       "Cost of Trip    359392.0  2.861901e+02     157.993661        19.0   \n",
       "\n",
       "                         25%          50%           75%          max  \n",
       "Transaction ID  1.011081e+07  10221035.50  1.033094e+07  10440107.00  \n",
       "Date of Travel  4.269700e+04     42988.00  4.323200e+04     43465.00  \n",
       "KM Travelled    1.200000e+01        22.44  3.296000e+01        48.00  \n",
       "Price Charged   2.064375e+02       386.36  5.836600e+02      2048.03  \n",
       "Cost of Trip    1.512000e+02       282.48  4.136832e+02       691.20  "
      ]
     },
     "execution_count": 6,
     "metadata": {},
     "output_type": "execute_result"
    }
   ],
   "source": [
    "cab_data.describe().T"
   ]
  },
  {
   "cell_type": "code",
   "execution_count": 7,
   "id": "d41e6823",
   "metadata": {},
   "outputs": [
    {
     "data": {
      "text/plain": [
       "Transaction ID    0\n",
       "Date of Travel    0\n",
       "Company           0\n",
       "City              0\n",
       "KM Travelled      0\n",
       "Price Charged     0\n",
       "Cost of Trip      0\n",
       "dtype: int64"
      ]
     },
     "execution_count": 7,
     "metadata": {},
     "output_type": "execute_result"
    }
   ],
   "source": [
    "cab_data.isnull().sum()"
   ]
  },
  {
   "cell_type": "code",
   "execution_count": 8,
   "id": "9f99b37f",
   "metadata": {},
   "outputs": [
    {
     "data": {
      "text/plain": [
       "0"
      ]
     },
     "execution_count": 8,
     "metadata": {},
     "output_type": "execute_result"
    }
   ],
   "source": [
    "cab_data.duplicated().sum()"
   ]
  },
  {
   "cell_type": "markdown",
   "id": "e68529a9",
   "metadata": {},
   "source": [
    "**2)`customer_id`: A unique identifier which links the customer’s demographic details**"
   ]
  },
  {
   "cell_type": "code",
   "execution_count": 9,
   "id": "e433d3c2",
   "metadata": {},
   "outputs": [
    {
     "data": {
      "text/html": [
       "<div>\n",
       "<style scoped>\n",
       "    .dataframe tbody tr th:only-of-type {\n",
       "        vertical-align: middle;\n",
       "    }\n",
       "\n",
       "    .dataframe tbody tr th {\n",
       "        vertical-align: top;\n",
       "    }\n",
       "\n",
       "    .dataframe thead th {\n",
       "        text-align: right;\n",
       "    }\n",
       "</style>\n",
       "<table border=\"1\" class=\"dataframe\">\n",
       "  <thead>\n",
       "    <tr style=\"text-align: right;\">\n",
       "      <th></th>\n",
       "      <th>Customer ID</th>\n",
       "      <th>Gender</th>\n",
       "      <th>Age</th>\n",
       "      <th>Income (USD/Month)</th>\n",
       "    </tr>\n",
       "  </thead>\n",
       "  <tbody>\n",
       "    <tr>\n",
       "      <th>0</th>\n",
       "      <td>29290</td>\n",
       "      <td>Male</td>\n",
       "      <td>28</td>\n",
       "      <td>10813</td>\n",
       "    </tr>\n",
       "    <tr>\n",
       "      <th>1</th>\n",
       "      <td>27703</td>\n",
       "      <td>Male</td>\n",
       "      <td>27</td>\n",
       "      <td>9237</td>\n",
       "    </tr>\n",
       "    <tr>\n",
       "      <th>2</th>\n",
       "      <td>28712</td>\n",
       "      <td>Male</td>\n",
       "      <td>53</td>\n",
       "      <td>11242</td>\n",
       "    </tr>\n",
       "    <tr>\n",
       "      <th>3</th>\n",
       "      <td>28020</td>\n",
       "      <td>Male</td>\n",
       "      <td>23</td>\n",
       "      <td>23327</td>\n",
       "    </tr>\n",
       "    <tr>\n",
       "      <th>4</th>\n",
       "      <td>27182</td>\n",
       "      <td>Male</td>\n",
       "      <td>33</td>\n",
       "      <td>8536</td>\n",
       "    </tr>\n",
       "  </tbody>\n",
       "</table>\n",
       "</div>"
      ],
      "text/plain": [
       "   Customer ID Gender  Age  Income (USD/Month)\n",
       "0        29290   Male   28               10813\n",
       "1        27703   Male   27                9237\n",
       "2        28712   Male   53               11242\n",
       "3        28020   Male   23               23327\n",
       "4        27182   Male   33                8536"
      ]
     },
     "execution_count": 9,
     "metadata": {},
     "output_type": "execute_result"
    }
   ],
   "source": [
    "customer_id.head()"
   ]
  },
  {
   "cell_type": "code",
   "execution_count": 10,
   "id": "8640e575",
   "metadata": {},
   "outputs": [
    {
     "name": "stdout",
     "output_type": "stream",
     "text": [
      "<class 'pandas.core.frame.DataFrame'>\n",
      "RangeIndex: 49171 entries, 0 to 49170\n",
      "Data columns (total 4 columns):\n",
      " #   Column              Non-Null Count  Dtype \n",
      "---  ------              --------------  ----- \n",
      " 0   Customer ID         49171 non-null  int64 \n",
      " 1   Gender              49171 non-null  object\n",
      " 2   Age                 49171 non-null  int64 \n",
      " 3   Income (USD/Month)  49171 non-null  int64 \n",
      "dtypes: int64(3), object(1)\n",
      "memory usage: 1.5+ MB\n"
     ]
    }
   ],
   "source": [
    "customer_id.info()"
   ]
  },
  {
   "cell_type": "code",
   "execution_count": 11,
   "id": "8ebe6833",
   "metadata": {},
   "outputs": [
    {
     "data": {
      "text/html": [
       "<div>\n",
       "<style scoped>\n",
       "    .dataframe tbody tr th:only-of-type {\n",
       "        vertical-align: middle;\n",
       "    }\n",
       "\n",
       "    .dataframe tbody tr th {\n",
       "        vertical-align: top;\n",
       "    }\n",
       "\n",
       "    .dataframe thead th {\n",
       "        text-align: right;\n",
       "    }\n",
       "</style>\n",
       "<table border=\"1\" class=\"dataframe\">\n",
       "  <thead>\n",
       "    <tr style=\"text-align: right;\">\n",
       "      <th></th>\n",
       "      <th>count</th>\n",
       "      <th>mean</th>\n",
       "      <th>std</th>\n",
       "      <th>min</th>\n",
       "      <th>25%</th>\n",
       "      <th>50%</th>\n",
       "      <th>75%</th>\n",
       "      <th>max</th>\n",
       "    </tr>\n",
       "  </thead>\n",
       "  <tbody>\n",
       "    <tr>\n",
       "      <th>Customer ID</th>\n",
       "      <td>49171.0</td>\n",
       "      <td>28398.252283</td>\n",
       "      <td>17714.137333</td>\n",
       "      <td>1.0</td>\n",
       "      <td>12654.5</td>\n",
       "      <td>27631.0</td>\n",
       "      <td>43284.5</td>\n",
       "      <td>60000.0</td>\n",
       "    </tr>\n",
       "    <tr>\n",
       "      <th>Age</th>\n",
       "      <td>49171.0</td>\n",
       "      <td>35.363121</td>\n",
       "      <td>12.599066</td>\n",
       "      <td>18.0</td>\n",
       "      <td>25.0</td>\n",
       "      <td>33.0</td>\n",
       "      <td>42.0</td>\n",
       "      <td>65.0</td>\n",
       "    </tr>\n",
       "    <tr>\n",
       "      <th>Income (USD/Month)</th>\n",
       "      <td>49171.0</td>\n",
       "      <td>15015.631856</td>\n",
       "      <td>8002.208253</td>\n",
       "      <td>2000.0</td>\n",
       "      <td>8289.5</td>\n",
       "      <td>14656.0</td>\n",
       "      <td>21035.0</td>\n",
       "      <td>35000.0</td>\n",
       "    </tr>\n",
       "  </tbody>\n",
       "</table>\n",
       "</div>"
      ],
      "text/plain": [
       "                      count          mean           std     min      25%  \\\n",
       "Customer ID         49171.0  28398.252283  17714.137333     1.0  12654.5   \n",
       "Age                 49171.0     35.363121     12.599066    18.0     25.0   \n",
       "Income (USD/Month)  49171.0  15015.631856   8002.208253  2000.0   8289.5   \n",
       "\n",
       "                        50%      75%      max  \n",
       "Customer ID         27631.0  43284.5  60000.0  \n",
       "Age                    33.0     42.0     65.0  \n",
       "Income (USD/Month)  14656.0  21035.0  35000.0  "
      ]
     },
     "execution_count": 11,
     "metadata": {},
     "output_type": "execute_result"
    }
   ],
   "source": [
    "customer_id.describe().T"
   ]
  },
  {
   "cell_type": "code",
   "execution_count": 12,
   "id": "537bea7c",
   "metadata": {},
   "outputs": [
    {
     "data": {
      "text/plain": [
       "Customer ID           0\n",
       "Gender                0\n",
       "Age                   0\n",
       "Income (USD/Month)    0\n",
       "dtype: int64"
      ]
     },
     "execution_count": 12,
     "metadata": {},
     "output_type": "execute_result"
    }
   ],
   "source": [
    "customer_id.isnull().sum()"
   ]
  },
  {
   "cell_type": "code",
   "execution_count": 13,
   "id": "c33f8ac5",
   "metadata": {},
   "outputs": [
    {
     "data": {
      "text/plain": [
       "0"
      ]
     },
     "execution_count": 13,
     "metadata": {},
     "output_type": "execute_result"
    }
   ],
   "source": [
    "customer_id.duplicated().sum()"
   ]
  },
  {
   "cell_type": "markdown",
   "id": "b17e6a85",
   "metadata": {},
   "source": [
    "**3)`transaction_id`: Transaction to customer mapping and payment mode**"
   ]
  },
  {
   "cell_type": "code",
   "execution_count": 14,
   "id": "e3e96c06",
   "metadata": {},
   "outputs": [
    {
     "data": {
      "text/html": [
       "<div>\n",
       "<style scoped>\n",
       "    .dataframe tbody tr th:only-of-type {\n",
       "        vertical-align: middle;\n",
       "    }\n",
       "\n",
       "    .dataframe tbody tr th {\n",
       "        vertical-align: top;\n",
       "    }\n",
       "\n",
       "    .dataframe thead th {\n",
       "        text-align: right;\n",
       "    }\n",
       "</style>\n",
       "<table border=\"1\" class=\"dataframe\">\n",
       "  <thead>\n",
       "    <tr style=\"text-align: right;\">\n",
       "      <th></th>\n",
       "      <th>Transaction ID</th>\n",
       "      <th>Customer ID</th>\n",
       "      <th>Payment_Mode</th>\n",
       "    </tr>\n",
       "  </thead>\n",
       "  <tbody>\n",
       "    <tr>\n",
       "      <th>0</th>\n",
       "      <td>10000011</td>\n",
       "      <td>29290</td>\n",
       "      <td>Card</td>\n",
       "    </tr>\n",
       "    <tr>\n",
       "      <th>1</th>\n",
       "      <td>10000012</td>\n",
       "      <td>27703</td>\n",
       "      <td>Card</td>\n",
       "    </tr>\n",
       "    <tr>\n",
       "      <th>2</th>\n",
       "      <td>10000013</td>\n",
       "      <td>28712</td>\n",
       "      <td>Cash</td>\n",
       "    </tr>\n",
       "    <tr>\n",
       "      <th>3</th>\n",
       "      <td>10000014</td>\n",
       "      <td>28020</td>\n",
       "      <td>Cash</td>\n",
       "    </tr>\n",
       "    <tr>\n",
       "      <th>4</th>\n",
       "      <td>10000015</td>\n",
       "      <td>27182</td>\n",
       "      <td>Card</td>\n",
       "    </tr>\n",
       "  </tbody>\n",
       "</table>\n",
       "</div>"
      ],
      "text/plain": [
       "   Transaction ID  Customer ID Payment_Mode\n",
       "0        10000011        29290         Card\n",
       "1        10000012        27703         Card\n",
       "2        10000013        28712         Cash\n",
       "3        10000014        28020         Cash\n",
       "4        10000015        27182         Card"
      ]
     },
     "execution_count": 14,
     "metadata": {},
     "output_type": "execute_result"
    }
   ],
   "source": [
    "transaction_id.head()"
   ]
  },
  {
   "cell_type": "code",
   "execution_count": 15,
   "id": "4c3dbbd4",
   "metadata": {},
   "outputs": [
    {
     "name": "stdout",
     "output_type": "stream",
     "text": [
      "<class 'pandas.core.frame.DataFrame'>\n",
      "RangeIndex: 440098 entries, 0 to 440097\n",
      "Data columns (total 3 columns):\n",
      " #   Column          Non-Null Count   Dtype \n",
      "---  ------          --------------   ----- \n",
      " 0   Transaction ID  440098 non-null  int64 \n",
      " 1   Customer ID     440098 non-null  int64 \n",
      " 2   Payment_Mode    440098 non-null  object\n",
      "dtypes: int64(2), object(1)\n",
      "memory usage: 10.1+ MB\n"
     ]
    }
   ],
   "source": [
    "transaction_id.info()"
   ]
  },
  {
   "cell_type": "code",
   "execution_count": 16,
   "id": "9638c05a",
   "metadata": {},
   "outputs": [
    {
     "data": {
      "text/html": [
       "<div>\n",
       "<style scoped>\n",
       "    .dataframe tbody tr th:only-of-type {\n",
       "        vertical-align: middle;\n",
       "    }\n",
       "\n",
       "    .dataframe tbody tr th {\n",
       "        vertical-align: top;\n",
       "    }\n",
       "\n",
       "    .dataframe thead th {\n",
       "        text-align: right;\n",
       "    }\n",
       "</style>\n",
       "<table border=\"1\" class=\"dataframe\">\n",
       "  <thead>\n",
       "    <tr style=\"text-align: right;\">\n",
       "      <th></th>\n",
       "      <th>count</th>\n",
       "      <th>mean</th>\n",
       "      <th>std</th>\n",
       "      <th>min</th>\n",
       "      <th>25%</th>\n",
       "      <th>50%</th>\n",
       "      <th>75%</th>\n",
       "      <th>max</th>\n",
       "    </tr>\n",
       "  </thead>\n",
       "  <tbody>\n",
       "    <tr>\n",
       "      <th>Transaction ID</th>\n",
       "      <td>440098.0</td>\n",
       "      <td>1.022006e+07</td>\n",
       "      <td>127045.493722</td>\n",
       "      <td>10000011.0</td>\n",
       "      <td>10110035.25</td>\n",
       "      <td>10220059.5</td>\n",
       "      <td>10330083.75</td>\n",
       "      <td>10440108.0</td>\n",
       "    </tr>\n",
       "    <tr>\n",
       "      <th>Customer ID</th>\n",
       "      <td>440098.0</td>\n",
       "      <td>2.361951e+04</td>\n",
       "      <td>21195.549816</td>\n",
       "      <td>1.0</td>\n",
       "      <td>3530.00</td>\n",
       "      <td>15168.0</td>\n",
       "      <td>43884.00</td>\n",
       "      <td>60000.0</td>\n",
       "    </tr>\n",
       "  </tbody>\n",
       "</table>\n",
       "</div>"
      ],
      "text/plain": [
       "                   count          mean            std         min  \\\n",
       "Transaction ID  440098.0  1.022006e+07  127045.493722  10000011.0   \n",
       "Customer ID     440098.0  2.361951e+04   21195.549816         1.0   \n",
       "\n",
       "                        25%         50%          75%         max  \n",
       "Transaction ID  10110035.25  10220059.5  10330083.75  10440108.0  \n",
       "Customer ID         3530.00     15168.0     43884.00     60000.0  "
      ]
     },
     "execution_count": 16,
     "metadata": {},
     "output_type": "execute_result"
    }
   ],
   "source": [
    "transaction_id.describe().T"
   ]
  },
  {
   "cell_type": "code",
   "execution_count": 17,
   "id": "81ab6f76",
   "metadata": {},
   "outputs": [
    {
     "data": {
      "text/plain": [
       "Transaction ID    0\n",
       "Customer ID       0\n",
       "Payment_Mode      0\n",
       "dtype: int64"
      ]
     },
     "execution_count": 17,
     "metadata": {},
     "output_type": "execute_result"
    }
   ],
   "source": [
    "transaction_id.isnull().sum()"
   ]
  },
  {
   "cell_type": "code",
   "execution_count": 18,
   "id": "a6912153",
   "metadata": {},
   "outputs": [
    {
     "data": {
      "text/plain": [
       "0"
      ]
     },
     "execution_count": 18,
     "metadata": {},
     "output_type": "execute_result"
    }
   ],
   "source": [
    "transaction_id.duplicated().sum()"
   ]
  },
  {
   "cell_type": "markdown",
   "id": "1f3568f2",
   "metadata": {},
   "source": [
    "**4)`city`: US cities, their population and number of cab users**"
   ]
  },
  {
   "cell_type": "code",
   "execution_count": 19,
   "id": "f7a49618",
   "metadata": {},
   "outputs": [
    {
     "name": "stdout",
     "output_type": "stream",
     "text": [
      "<class 'pandas.core.frame.DataFrame'>\n",
      "RangeIndex: 20 entries, 0 to 19\n",
      "Data columns (total 3 columns):\n",
      " #   Column      Non-Null Count  Dtype \n",
      "---  ------      --------------  ----- \n",
      " 0   City        20 non-null     object\n",
      " 1   Population  20 non-null     object\n",
      " 2   Users       20 non-null     object\n",
      "dtypes: object(3)\n",
      "memory usage: 608.0+ bytes\n"
     ]
    }
   ],
   "source": [
    "city.info()"
   ]
  },
  {
   "cell_type": "code",
   "execution_count": 20,
   "id": "b87659a5",
   "metadata": {},
   "outputs": [
    {
     "data": {
      "text/html": [
       "<div>\n",
       "<style scoped>\n",
       "    .dataframe tbody tr th:only-of-type {\n",
       "        vertical-align: middle;\n",
       "    }\n",
       "\n",
       "    .dataframe tbody tr th {\n",
       "        vertical-align: top;\n",
       "    }\n",
       "\n",
       "    .dataframe thead th {\n",
       "        text-align: right;\n",
       "    }\n",
       "</style>\n",
       "<table border=\"1\" class=\"dataframe\">\n",
       "  <thead>\n",
       "    <tr style=\"text-align: right;\">\n",
       "      <th></th>\n",
       "      <th>City</th>\n",
       "      <th>Population</th>\n",
       "      <th>Users</th>\n",
       "    </tr>\n",
       "  </thead>\n",
       "  <tbody>\n",
       "    <tr>\n",
       "      <th>0</th>\n",
       "      <td>NEW YORK NY</td>\n",
       "      <td>8,405,837</td>\n",
       "      <td>302,149</td>\n",
       "    </tr>\n",
       "    <tr>\n",
       "      <th>1</th>\n",
       "      <td>CHICAGO IL</td>\n",
       "      <td>1,955,130</td>\n",
       "      <td>164,468</td>\n",
       "    </tr>\n",
       "    <tr>\n",
       "      <th>2</th>\n",
       "      <td>LOS ANGELES CA</td>\n",
       "      <td>1,595,037</td>\n",
       "      <td>144,132</td>\n",
       "    </tr>\n",
       "    <tr>\n",
       "      <th>3</th>\n",
       "      <td>MIAMI FL</td>\n",
       "      <td>1,339,155</td>\n",
       "      <td>17,675</td>\n",
       "    </tr>\n",
       "    <tr>\n",
       "      <th>4</th>\n",
       "      <td>SILICON VALLEY</td>\n",
       "      <td>1,177,609</td>\n",
       "      <td>27,247</td>\n",
       "    </tr>\n",
       "  </tbody>\n",
       "</table>\n",
       "</div>"
      ],
      "text/plain": [
       "             City   Population      Users\n",
       "0     NEW YORK NY   8,405,837    302,149 \n",
       "1      CHICAGO IL   1,955,130    164,468 \n",
       "2  LOS ANGELES CA   1,595,037    144,132 \n",
       "3        MIAMI FL   1,339,155     17,675 \n",
       "4  SILICON VALLEY   1,177,609     27,247 "
      ]
     },
     "execution_count": 20,
     "metadata": {},
     "output_type": "execute_result"
    }
   ],
   "source": [
    "city.head()"
   ]
  },
  {
   "cell_type": "code",
   "execution_count": 21,
   "id": "2ab0e7e6",
   "metadata": {},
   "outputs": [
    {
     "data": {
      "text/html": [
       "<div>\n",
       "<style scoped>\n",
       "    .dataframe tbody tr th:only-of-type {\n",
       "        vertical-align: middle;\n",
       "    }\n",
       "\n",
       "    .dataframe tbody tr th {\n",
       "        vertical-align: top;\n",
       "    }\n",
       "\n",
       "    .dataframe thead th {\n",
       "        text-align: right;\n",
       "    }\n",
       "</style>\n",
       "<table border=\"1\" class=\"dataframe\">\n",
       "  <thead>\n",
       "    <tr style=\"text-align: right;\">\n",
       "      <th></th>\n",
       "      <th>count</th>\n",
       "      <th>unique</th>\n",
       "      <th>top</th>\n",
       "      <th>freq</th>\n",
       "    </tr>\n",
       "  </thead>\n",
       "  <tbody>\n",
       "    <tr>\n",
       "      <th>City</th>\n",
       "      <td>20</td>\n",
       "      <td>20</td>\n",
       "      <td>NEW YORK NY</td>\n",
       "      <td>1</td>\n",
       "    </tr>\n",
       "    <tr>\n",
       "      <th>Population</th>\n",
       "      <td>20</td>\n",
       "      <td>20</td>\n",
       "      <td>8,405,837</td>\n",
       "      <td>1</td>\n",
       "    </tr>\n",
       "    <tr>\n",
       "      <th>Users</th>\n",
       "      <td>20</td>\n",
       "      <td>20</td>\n",
       "      <td>302,149</td>\n",
       "      <td>1</td>\n",
       "    </tr>\n",
       "  </tbody>\n",
       "</table>\n",
       "</div>"
      ],
      "text/plain": [
       "           count unique          top freq\n",
       "City          20     20  NEW YORK NY    1\n",
       "Population    20     20   8,405,837     1\n",
       "Users         20     20     302,149     1"
      ]
     },
     "execution_count": 21,
     "metadata": {},
     "output_type": "execute_result"
    }
   ],
   "source": [
    "city.describe().T"
   ]
  },
  {
   "cell_type": "code",
   "execution_count": 22,
   "id": "880fc0b8",
   "metadata": {},
   "outputs": [
    {
     "data": {
      "text/plain": [
       "City          0\n",
       "Population    0\n",
       "Users         0\n",
       "dtype: int64"
      ]
     },
     "execution_count": 22,
     "metadata": {},
     "output_type": "execute_result"
    }
   ],
   "source": [
    "city.isnull().sum()"
   ]
  },
  {
   "cell_type": "code",
   "execution_count": 23,
   "id": "da55b145",
   "metadata": {},
   "outputs": [
    {
     "data": {
      "text/plain": [
       "0"
      ]
     },
     "execution_count": 23,
     "metadata": {},
     "output_type": "execute_result"
    }
   ],
   "source": [
    "city.duplicated().sum()"
   ]
  },
  {
   "cell_type": "markdown",
   "id": "c913abde",
   "metadata": {},
   "source": [
    "**Data Preparation**"
   ]
  },
  {
   "cell_type": "markdown",
   "id": "dc8743fa",
   "metadata": {},
   "source": [
    "- merge datasets and make it into `df`\n",
    "- noticed that in `cab_data`, `Date of Travel` is represented in numerical value such as 42377,42375, which here it needs to convert to interpretable date\n",
    "- noticed that in `cab_data`, values such as `ORANGE COUNTY` and `SILICON VALLEY` in column `City` doesn't have a state abbreviations, which it needs to update infomation, and covert into two columns `City` and `State` for a better undertsanding\n",
    "- noticed that data of `city` contains columns `Population` and `Users`, but they are in data types of object. For a better manipualtions, convert them into numerical representations\n",
    "- seperate two dataset specific for two cab companies `yello cab` and `pink cab` "
   ]
  },
  {
   "cell_type": "code",
   "execution_count": 24,
   "id": "90d41948",
   "metadata": {},
   "outputs": [],
   "source": [
    "df = cab_data.merge(transaction_id, on= 'Transaction ID').merge(customer_id, on ='Customer ID').merge(city, on = 'City')"
   ]
  },
  {
   "cell_type": "code",
   "execution_count": 25,
   "id": "a59364f0",
   "metadata": {},
   "outputs": [],
   "source": [
    "df['Date of Travel'] = pd.to_datetime(df['Date of Travel'], origin = '1899-12-30', unit ='D')"
   ]
  },
  {
   "cell_type": "code",
   "execution_count": 26,
   "id": "a97683e9",
   "metadata": {},
   "outputs": [],
   "source": [
    "df.replace({'ORANGE COUNTY':'ORANGE COUNTY CA', 'SILICON VALLEY':'SILICON VALLEY CA'}, inplace = True)"
   ]
  },
  {
   "cell_type": "code",
   "execution_count": 27,
   "id": "d42928f3",
   "metadata": {},
   "outputs": [],
   "source": [
    "df[['City', 'State']] = df['City'].str.extract(r'([A-Za-z\\s]+)\\s([A-Za-z]{2})')"
   ]
  },
  {
   "cell_type": "code",
   "execution_count": 28,
   "id": "0d60eb78",
   "metadata": {},
   "outputs": [],
   "source": [
    "df['Month'] = df['Date of Travel'].dt.month\n",
    "df['Year'] = df['Date of Travel'].dt.year"
   ]
  },
  {
   "cell_type": "code",
   "execution_count": 29,
   "id": "6319f5cb",
   "metadata": {},
   "outputs": [
    {
     "data": {
      "text/html": [
       "<div>\n",
       "<style scoped>\n",
       "    .dataframe tbody tr th:only-of-type {\n",
       "        vertical-align: middle;\n",
       "    }\n",
       "\n",
       "    .dataframe tbody tr th {\n",
       "        vertical-align: top;\n",
       "    }\n",
       "\n",
       "    .dataframe thead th {\n",
       "        text-align: right;\n",
       "    }\n",
       "</style>\n",
       "<table border=\"1\" class=\"dataframe\">\n",
       "  <thead>\n",
       "    <tr style=\"text-align: right;\">\n",
       "      <th></th>\n",
       "      <th>Transaction ID</th>\n",
       "      <th>Date of Travel</th>\n",
       "      <th>Company</th>\n",
       "      <th>City</th>\n",
       "      <th>KM Travelled</th>\n",
       "      <th>Price Charged</th>\n",
       "      <th>Cost of Trip</th>\n",
       "      <th>Customer ID</th>\n",
       "      <th>Payment_Mode</th>\n",
       "      <th>Gender</th>\n",
       "      <th>Age</th>\n",
       "      <th>Income (USD/Month)</th>\n",
       "      <th>Population</th>\n",
       "      <th>Users</th>\n",
       "      <th>State</th>\n",
       "      <th>Month</th>\n",
       "      <th>Year</th>\n",
       "    </tr>\n",
       "  </thead>\n",
       "  <tbody>\n",
       "    <tr>\n",
       "      <th>0</th>\n",
       "      <td>10000011</td>\n",
       "      <td>2016-01-08</td>\n",
       "      <td>Pink Cab</td>\n",
       "      <td>ATLANTA</td>\n",
       "      <td>30.45</td>\n",
       "      <td>370.95</td>\n",
       "      <td>313.6350</td>\n",
       "      <td>29290</td>\n",
       "      <td>Card</td>\n",
       "      <td>Male</td>\n",
       "      <td>28</td>\n",
       "      <td>10813</td>\n",
       "      <td>814,885</td>\n",
       "      <td>24,701</td>\n",
       "      <td>GA</td>\n",
       "      <td>1</td>\n",
       "      <td>2016</td>\n",
       "    </tr>\n",
       "    <tr>\n",
       "      <th>1</th>\n",
       "      <td>10351127</td>\n",
       "      <td>2018-07-21</td>\n",
       "      <td>Yellow Cab</td>\n",
       "      <td>ATLANTA</td>\n",
       "      <td>26.19</td>\n",
       "      <td>598.70</td>\n",
       "      <td>317.4228</td>\n",
       "      <td>29290</td>\n",
       "      <td>Cash</td>\n",
       "      <td>Male</td>\n",
       "      <td>28</td>\n",
       "      <td>10813</td>\n",
       "      <td>814,885</td>\n",
       "      <td>24,701</td>\n",
       "      <td>GA</td>\n",
       "      <td>7</td>\n",
       "      <td>2018</td>\n",
       "    </tr>\n",
       "    <tr>\n",
       "      <th>2</th>\n",
       "      <td>10412921</td>\n",
       "      <td>2018-11-23</td>\n",
       "      <td>Yellow Cab</td>\n",
       "      <td>ATLANTA</td>\n",
       "      <td>42.55</td>\n",
       "      <td>792.05</td>\n",
       "      <td>597.4020</td>\n",
       "      <td>29290</td>\n",
       "      <td>Card</td>\n",
       "      <td>Male</td>\n",
       "      <td>28</td>\n",
       "      <td>10813</td>\n",
       "      <td>814,885</td>\n",
       "      <td>24,701</td>\n",
       "      <td>GA</td>\n",
       "      <td>11</td>\n",
       "      <td>2018</td>\n",
       "    </tr>\n",
       "    <tr>\n",
       "      <th>3</th>\n",
       "      <td>10000012</td>\n",
       "      <td>2016-01-06</td>\n",
       "      <td>Pink Cab</td>\n",
       "      <td>ATLANTA</td>\n",
       "      <td>28.62</td>\n",
       "      <td>358.52</td>\n",
       "      <td>334.8540</td>\n",
       "      <td>27703</td>\n",
       "      <td>Card</td>\n",
       "      <td>Male</td>\n",
       "      <td>27</td>\n",
       "      <td>9237</td>\n",
       "      <td>814,885</td>\n",
       "      <td>24,701</td>\n",
       "      <td>GA</td>\n",
       "      <td>1</td>\n",
       "      <td>2016</td>\n",
       "    </tr>\n",
       "    <tr>\n",
       "      <th>4</th>\n",
       "      <td>10320494</td>\n",
       "      <td>2018-04-21</td>\n",
       "      <td>Yellow Cab</td>\n",
       "      <td>ATLANTA</td>\n",
       "      <td>36.38</td>\n",
       "      <td>721.10</td>\n",
       "      <td>467.1192</td>\n",
       "      <td>27703</td>\n",
       "      <td>Card</td>\n",
       "      <td>Male</td>\n",
       "      <td>27</td>\n",
       "      <td>9237</td>\n",
       "      <td>814,885</td>\n",
       "      <td>24,701</td>\n",
       "      <td>GA</td>\n",
       "      <td>4</td>\n",
       "      <td>2018</td>\n",
       "    </tr>\n",
       "  </tbody>\n",
       "</table>\n",
       "</div>"
      ],
      "text/plain": [
       "   Transaction ID Date of Travel     Company     City  KM Travelled  \\\n",
       "0        10000011     2016-01-08    Pink Cab  ATLANTA         30.45   \n",
       "1        10351127     2018-07-21  Yellow Cab  ATLANTA         26.19   \n",
       "2        10412921     2018-11-23  Yellow Cab  ATLANTA         42.55   \n",
       "3        10000012     2016-01-06    Pink Cab  ATLANTA         28.62   \n",
       "4        10320494     2018-04-21  Yellow Cab  ATLANTA         36.38   \n",
       "\n",
       "   Price Charged  Cost of Trip  Customer ID Payment_Mode Gender  Age  \\\n",
       "0         370.95      313.6350        29290         Card   Male   28   \n",
       "1         598.70      317.4228        29290         Cash   Male   28   \n",
       "2         792.05      597.4020        29290         Card   Male   28   \n",
       "3         358.52      334.8540        27703         Card   Male   27   \n",
       "4         721.10      467.1192        27703         Card   Male   27   \n",
       "\n",
       "   Income (USD/Month) Population     Users State  Month  Year  \n",
       "0               10813   814,885    24,701     GA      1  2016  \n",
       "1               10813   814,885    24,701     GA      7  2018  \n",
       "2               10813   814,885    24,701     GA     11  2018  \n",
       "3                9237   814,885    24,701     GA      1  2016  \n",
       "4                9237   814,885    24,701     GA      4  2018  "
      ]
     },
     "execution_count": 29,
     "metadata": {},
     "output_type": "execute_result"
    }
   ],
   "source": [
    "df.head()"
   ]
  },
  {
   "cell_type": "code",
   "execution_count": 30,
   "id": "518cb239",
   "metadata": {},
   "outputs": [],
   "source": [
    "yellow_cab = df[df['Company'] == 'Yellow Cab']\n",
    "pink_cab = df[df['Company'] == 'Pink Cab']"
   ]
  },
  {
   "cell_type": "code",
   "execution_count": 31,
   "id": "610f1e55",
   "metadata": {},
   "outputs": [
    {
     "data": {
      "text/plain": [
       "(274681, 17)"
      ]
     },
     "execution_count": 31,
     "metadata": {},
     "output_type": "execute_result"
    }
   ],
   "source": [
    "yellow_cab.shape"
   ]
  },
  {
   "cell_type": "code",
   "execution_count": 32,
   "id": "18b4393a",
   "metadata": {
    "scrolled": true
   },
   "outputs": [
    {
     "data": {
      "text/plain": [
       "(84711, 17)"
      ]
     },
     "execution_count": 32,
     "metadata": {},
     "output_type": "execute_result"
    }
   ],
   "source": [
    "pink_cab.shape"
   ]
  },
  {
   "cell_type": "markdown",
   "id": "f25b1591",
   "metadata": {},
   "source": [
    "**EDA & Hypothesis**"
   ]
  },
  {
   "cell_type": "markdown",
   "id": "86bad0e2",
   "metadata": {},
   "source": [
    "**Is there any seasonality in number of customers using the cab service?**"
   ]
  },
  {
   "cell_type": "code",
   "execution_count": 33,
   "id": "bb144c0c",
   "metadata": {},
   "outputs": [],
   "source": [
    "sns.set_theme()"
   ]
  },
  {
   "cell_type": "code",
   "execution_count": 34,
   "id": "d9154a8d",
   "metadata": {},
   "outputs": [],
   "source": [
    "transaction_count0 = yellow_cab.groupby('Month')['Transaction ID'].count()\n",
    "transaction_count1 = pink_cab.groupby('Month')['Transaction ID'].count()"
   ]
  },
  {
   "cell_type": "code",
   "execution_count": 35,
   "id": "2ea236d6",
   "metadata": {},
   "outputs": [
    {
     "data": {
      "image/png": "[encoded data removed]",
      "text/plain": [
       "<Figure size 720x576 with 2 Axes>"
      ]
     },
     "metadata": {},
     "output_type": "display_data"
    }
   ],
   "source": [
    "fig, axes = plt.subplots(nrows=2, sharex=True, sharey=True, figsize = (10,8))\n",
    "\n",
    "# Creating the bar plots using seaborn\n",
    "sns.barplot(x=transaction_count0.index, y=transaction_count0.values, ax=axes[0])\n",
    "sns.barplot(x=transaction_count1.index, y=transaction_count1.values, ax=axes[1])\n",
    "\n",
    "# Adding labels and title to the plots\n",
    "axes[0].set_ylabel('Transaction Count (Yellow Cab)')\n",
    "axes[1].set_ylabel('Transaction Count (Pink Cab)')\n",
    "axes[1].set_xlabel('Month')\n",
    "axes[0].set_title('Count of Transactions by Month')\n",
    "\n",
    "# Rotating x-axis labels if needed\n",
    "plt.xticks(rotation=45)\n",
    "\n",
    "# Displaying the plots\n",
    "plt.show()"
   ]
  },
  {
   "cell_type": "markdown",
   "id": "7a36573c",
   "metadata": {},
   "source": [
    "**Which cab company have greater profit in their service?**"
   ]
  },
  {
   "cell_type": "code",
   "execution_count": 36,
   "id": "93a150cf",
   "metadata": {},
   "outputs": [
    {
     "data": {
      "image/png": "[encoded data removed]",
      "text/plain": [
       "<Figure size 432x288 with 1 Axes>"
      ]
     },
     "metadata": {},
     "output_type": "display_data"
    }
   ],
   "source": [
    "sns.histplot(df, x='Cost of Trip', hue = 'Company')\n",
    "plt.title('Distribution of Profit Factors between Two Cab Companies')\n",
    "plt.show()"
   ]
  },
  {
   "cell_type": "code",
   "execution_count": 37,
   "id": "26445d6e",
   "metadata": {
    "scrolled": false
   },
   "outputs": [
    {
     "data": {
      "image/png": "[encoded data removed]",
      "text/plain": [
       "<Figure size 432x288 with 1 Axes>"
      ]
     },
     "metadata": {},
     "output_type": "display_data"
    }
   ],
   "source": [
    "sns.histplot(df, x='Price Charged', hue = 'Company')\n",
    "plt.show()"
   ]
  },
  {
   "cell_type": "code",
   "execution_count": 38,
   "id": "a97d515e",
   "metadata": {
    "scrolled": true
   },
   "outputs": [
    {
     "data": {
      "image/png": "[encoded data removed]",
      "text/plain": [
       "<Figure size 432x288 with 1 Axes>"
      ]
     },
     "metadata": {},
     "output_type": "display_data"
    }
   ],
   "source": [
    "df['Profit'] = df['Price Charged'] - df['Cost of Trip']\n",
    "sns.histplot(df, x='Profit', hue = 'Company')\n",
    "plt.show()"
   ]
  },
  {
   "cell_type": "markdown",
   "id": "a1249291",
   "metadata": {},
   "source": [
    "**What are the demographic distriutions for both cab companies?**"
   ]
  },
  {
   "cell_type": "code",
   "execution_count": 39,
   "id": "32a9cfa5",
   "metadata": {},
   "outputs": [],
   "source": [
    "transaction_count2 = yellow_cab.groupby('City')['Transaction ID'].count()\n",
    "transaction_count3 = pink_cab.groupby('City')['Transaction ID'].count()"
   ]
  },
  {
   "cell_type": "code",
   "execution_count": 40,
   "id": "b2e880c3",
   "metadata": {
    "scrolled": true
   },
   "outputs": [
    {
     "data": {
      "image/png": "[encoded data removed]",
      "text/plain": [
       "<Figure size 432x288 with 1 Axes>"
      ]
     },
     "metadata": {},
     "output_type": "display_data"
    }
   ],
   "source": [
    "combined_transaction_counts = pd.concat([transaction_count2, transaction_count3], axis=1)\n",
    "combined_transaction_counts.columns = ['Yellow Cab', 'Pink Cab']\n",
    "\n",
    "combined_transaction_counts.plot(kind='bar')\n",
    "\n",
    "plt.xlabel('City')\n",
    "plt.ylabel('Transaction Count')\n",
    "plt.title('Comparison of Transaction Counts by City')\n",
    "\n",
    "plt.legend()\n",
    "\n",
    "plt.show()"
   ]
  },
  {
   "cell_type": "markdown",
   "id": "3c6ed082",
   "metadata": {},
   "source": [
    "**Which cab company have a constantly increasing customers in years?**"
   ]
  },
  {
   "cell_type": "code",
   "execution_count": 41,
   "id": "996680b5",
   "metadata": {},
   "outputs": [],
   "source": [
    "transaction_count4 = yellow_cab.groupby('Year')['Transaction ID'].count()\n",
    "transaction_count5 = pink_cab.groupby('Year')['Transaction ID'].count()\n",
    "transaction_count4 = transaction_count4.reset_index()\n",
    "transaction_count5 = transaction_count5.reset_index()"
   ]
  },
  {
   "cell_type": "code",
   "execution_count": 42,
   "id": "98a514a9",
   "metadata": {},
   "outputs": [
    {
     "data": {
      "image/png": "[encoded data removed]",
      "text/plain": [
       "<Figure size 432x288 with 1 Axes>"
      ]
     },
     "metadata": {},
     "output_type": "display_data"
    }
   ],
   "source": [
    "# Plotting the line plots\n",
    "sns.lineplot(data=transaction_count4, x='Year', y='Transaction ID', label='Yellow Cab')\n",
    "sns.lineplot(data=transaction_count5, x='Year', y='Transaction ID', label='Pink Cab')\n",
    "\n",
    "# Add labels and title to the plot\n",
    "plt.xticks([2016, 2017, 2018])\n",
    "plt.xlabel('Year')\n",
    "plt.ylabel('Transaction Count')\n",
    "plt.title('Transaction Count Comparison')\n",
    "\n",
    "# Display the plot\n",
    "plt.legend()\n",
    "plt.show()"
   ]
  },
  {
   "cell_type": "markdown",
   "id": "3a0a123c",
   "metadata": {},
   "source": [
    "**Which cab company most likely to keep their customers?**"
   ]
  },
  {
   "cell_type": "code",
   "execution_count": 43,
   "id": "38ed1e20",
   "metadata": {},
   "outputs": [],
   "source": [
    "condition = df['Customer ID'].isin(df['Customer ID'].value_counts()[df['Customer ID'].value_counts() == 1].index)\n",
    "filtered_df = df[['Customer ID', 'Company']][condition]"
   ]
  },
  {
   "cell_type": "code",
   "execution_count": 44,
   "id": "83b99add",
   "metadata": {},
   "outputs": [],
   "source": [
    "churn = filtered_df.groupby('Company')\n",
    "customer_counts = churn['Customer ID'].nunique()"
   ]
  },
  {
   "cell_type": "code",
   "execution_count": 45,
   "id": "efdf5c5c",
   "metadata": {},
   "outputs": [
    {
     "data": {
      "image/png": "[encoded data removed]",
      "text/plain": [
       "<Figure size 432x288 with 1 Axes>"
      ]
     },
     "metadata": {},
     "output_type": "display_data"
    }
   ],
   "source": [
    "customer_counts = customer_counts.reset_index()\n",
    "\n",
    "sns.barplot(data=customer_counts, x='Company', y='Customer ID')\n",
    "\n",
    "plt.xlabel('Company')\n",
    "plt.ylabel('Number of Unique Customers')\n",
    "plt.title('Unique Customer Counts by Company')\n",
    "\n",
    "plt.show()"
   ]
  },
  {
   "cell_type": "code",
   "execution_count": 46,
   "id": "19f82132",
   "metadata": {},
   "outputs": [],
   "source": [
    "customer1 = df.groupby('Company')['Customer ID'].apply(lambda x: x.unique().size)"
   ]
  },
  {
   "cell_type": "code",
   "execution_count": 47,
   "id": "644c4f33",
   "metadata": {},
   "outputs": [
    {
     "data": {
      "image/png": "[encoded data removed]",
      "text/plain": [
       "<Figure size 432x288 with 1 Axes>"
      ]
     },
     "metadata": {},
     "output_type": "display_data"
    }
   ],
   "source": [
    "sns.barplot(data=customer_counts, x='Company', y='Customer ID')\n",
    "sns.barplot(data=customer1.reset_index(), x='Company', y='Customer ID', alpha=0.7, label='Total Unique Customers')\n",
    "plt.xlabel('Company')\n",
    "plt.ylabel('Number of Customers')\n",
    "plt.title('Number of Customers and Churn Customers')\n",
    "\n",
    "plt.show()\n"
   ]
  }
 ],
 "metadata": {
  "kernelspec": {
   "display_name": "Python 3 (ipykernel)",
   "language": "python",
   "name": "python3"
  },
  "language_info": {
   "codemirror_mode": {
    "name": "ipython",
    "version": 3
   },
   "file_extension": ".py",
   "mimetype": "text/x-python",
   "name": "python",
   "nbconvert_exporter": "python",
   "pygments_lexer": "ipython3",
   "version": "3.9.7"
  }
 },
 "nbformat": 4,
 "nbformat_minor": 5
}
